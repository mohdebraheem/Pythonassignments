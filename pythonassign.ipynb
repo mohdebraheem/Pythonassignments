{
  "nbformat": 4,
  "nbformat_minor": 0,
  "metadata": {
    "colab": {
      "provenance": [],
      "toc_visible": true,
      "authorship_tag": "ABX9TyOwUt4lgjWN0dmNkACExdK1",
      "include_colab_link": true
    },
    "kernelspec": {
      "name": "python3",
      "display_name": "Python 3"
    },
    "language_info": {
      "name": "python"
    }
  },
  "cells": [
    {
      "cell_type": "markdown",
      "metadata": {
        "id": "view-in-github",
        "colab_type": "text"
      },
      "source": [
        "<a href=\"https://colab.research.google.com/github/mohdebraheem/Pythonassignments/blob/main/pythonassign.ipynb\" target=\"_parent\"><img src=\"https://colab.research.google.com/assets/colab-badge.svg\" alt=\"Open In Colab\"/></a>"
      ]
    },
    {
      "cell_type": "code",
      "execution_count": 1,
      "metadata": {
        "colab": {
          "base_uri": "https://localhost:8080/"
        },
        "id": "n3cwcT96E_HS",
        "outputId": "70412ad5-fc5d-4f92-9998-08d3dbff4a7c"
      },
      "outputs": [
        {
          "output_type": "stream",
          "name": "stdout",
          "text": [
            "Enter Number of calls:200\n",
            "Monthly Telephone Bill for 200 calls is Rs. 255.0\n"
          ]
        }
      ],
      "source": [
        "# Python assignment - Problem statement 2\n",
        "\n",
        "call_num=int(input(\"Enter Number of calls:\"))\n",
        "\n",
        "if call_num> 200:\n",
        "    print(\"Monthly Telephone Bill for\",call_num,\"calls is Rs.\",(200+(50*0.60)+(50*0.50)+(call_num-200)*0.40))\n",
        "elif call_num > 150:\n",
        "    print(\"Monthly Telephone Bill for\",call_num,\"calls is Rs.\",(200+(50*0.60)+(call_num-150)*0.50))\n",
        "elif call_num > 100:\n",
        "    print(\"Monthly Telephone Bill for\",call_num,\"calls is Rs.\",(200+(call_num-100)*0.60))\n",
        "else:\n",
        "    print(\"Monthly Telephone Bill for\",call_num,\"calls is Rs. 200\")"
      ]
    },
    {
      "cell_type": "code",
      "source": [
        "# Python assignment - Problem statement 3\n",
        "\n",
        "def sum1(a):\n",
        "\n",
        "   count = 0\n",
        "\n",
        "   for i in a:\n",
        "\n",
        "       count += i\n",
        "\n",
        "   return count\n",
        "\n",
        "print(sum((8, 2, 3, 0, 7)))"
      ],
      "metadata": {
        "colab": {
          "base_uri": "https://localhost:8080/"
        },
        "id": "5ovDIT3MFIdN",
        "outputId": "4b0bc0d8-f5ae-494b-e6ca-9a1cb56600a4"
      },
      "execution_count": 2,
      "outputs": [
        {
          "output_type": "stream",
          "name": "stdout",
          "text": [
            "20\n"
          ]
        }
      ]
    },
    {
      "cell_type": "code",
      "source": [
        "# Python assignment - Problem statement 4\n",
        "def letter(a):\n",
        "  return a[::-1]\n",
        "\n",
        "swap = letter(\"1234abcd\")\n",
        "\n",
        "print(swap)"
      ],
      "metadata": {
        "colab": {
          "base_uri": "https://localhost:8080/"
        },
        "id": "hFgVFVT-FLao",
        "outputId": "c35778ae-3149-45da-d1e1-8b9932fa524c"
      },
      "execution_count": 3,
      "outputs": [
        {
          "output_type": "stream",
          "name": "stdout",
          "text": [
            "dcba4321\n"
          ]
        }
      ]
    },
    {
      "cell_type": "code",
      "source": [
        "# Python assignment - Problem statement 5\n",
        "x=input(\"Enter the string:- \")\n",
        "def char(x):\n",
        "  a=0\n",
        "  b=0\n",
        "  for i in x:\n",
        "      if i>='a' and i<='z':\n",
        "       b+=1\n",
        "\n",
        "      if i >='A' and i<='Z':\n",
        "       a+=1\n",
        "\n",
        "  print(\"No. of Upper case characters\",a)\n",
        "  print(\"No. of Lower case Characters\",b)\n",
        "char(x)"
      ],
      "metadata": {
        "colab": {
          "base_uri": "https://localhost:8080/"
        },
        "id": "L-yOFU1WFNj1",
        "outputId": "5025d6d4-e515-4a93-d4ce-cb30ea5b829b"
      },
      "execution_count": 4,
      "outputs": [
        {
          "output_type": "stream",
          "name": "stdout",
          "text": [
            "Enter the string:- The quick Brow Fox\n",
            "No. of Upper case characters 3\n",
            "No. of Lower case Characters 12\n"
          ]
        }
      ]
    },
    {
      "cell_type": "code",
      "source": [
        "# Python assignment - Problem statement 6\n",
        "\n",
        "class Point1:\n",
        "\n",
        "    def __init__(self,x,y,z):\n",
        "\n",
        "        self.x = x\n",
        "\n",
        "        self.y = y\n",
        "\n",
        "        self.z = z\n",
        "\n",
        "    def sqSum(self):\n",
        "\n",
        "        return(self.x**2+self.y**2+self.z**2)\n",
        "\n",
        "obj=Point1(1,3,5)\n",
        "\n",
        "print(obj.sqSum())"
      ],
      "metadata": {
        "colab": {
          "base_uri": "https://localhost:8080/"
        },
        "id": "zFiawyHjFbgk",
        "outputId": "4a481fb0-d70a-4ed6-f149-e12ffe111126"
      },
      "execution_count": 5,
      "outputs": [
        {
          "output_type": "stream",
          "name": "stdout",
          "text": [
            "35\n"
          ]
        }
      ]
    }
  ]
}