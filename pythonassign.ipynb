{
  "nbformat": 4,
  "nbformat_minor": 0,
  "metadata": {
    "colab": {
      "provenance": [],
      "toc_visible": true,
      "authorship_tag": "ABX9TyMxtWEPjSkQTk4Y31mGfd0L",
      "include_colab_link": true
    },
    "kernelspec": {
      "name": "python3",
      "display_name": "Python 3"
    },
    "language_info": {
      "name": "python"
    }
  },
  "cells": [
    {
      "cell_type": "markdown",
      "metadata": {
        "id": "view-in-github",
        "colab_type": "text"
      },
      "source": [
        "<a href=\"https://colab.research.google.com/github/mohdebraheem/Pythonassignments/blob/main/pythonassign.ipynb\" target=\"_parent\"><img src=\"https://colab.research.google.com/assets/colab-badge.svg\" alt=\"Open In Colab\"/></a>"
      ]
    },
    {
      "cell_type": "code",
      "execution_count": 14,
      "metadata": {
        "colab": {
          "base_uri": "https://localhost:8080/"
        },
        "id": "n3cwcT96E_HS",
        "outputId": "59f634b6-b4c1-4dc6-e331-779e5ccce032"
      },
      "outputs": [
        {
          "output_type": "stream",
          "name": "stdout",
          "text": [
            "Enter Number of calls:200\n",
            "Monthly Telephone Bill for 200 calls is Rs. 255.0\n"
          ]
        }
      ],
      "source": [
        "# Python assignment - Problem statement 2\n",
        "\n",
        "call_num=int(input(\"Enter Number of calls:\"))\n",
        "\n",
        "if call_num> 200:\n",
        "    print(\"Monthly Telephone Bill for\",call_num,\"calls is Rs.\",(200+(50*0.60)+(50*0.50)+(call_num-200)*0.40))\n",
        "elif call_num > 150:\n",
        "    print(\"Monthly Telephone Bill for\",call_num,\"calls is Rs.\",(200+(50*0.60)+(call_num-150)*0.50))\n",
        "elif call_num > 100:\n",
        "    print(\"Monthly Telephone Bill for\",call_num,\"calls is Rs.\",(200+(call_num-100)*0.60))\n",
        "else:\n",
        "    print(\"Monthly Telephone Bill for\",call_num,\"calls is Rs. 200\")"
      ]
    },
    {
      "cell_type": "code",
      "source": [
        "# Python assignment - Problem statement 3\n",
        "\n",
        "def sum1(a):\n",
        "   count = 0\n",
        "   for i in a:\n",
        "       count += i\n",
        "   return count\n",
        "\n",
        "print(sum((8, 2, 3, 0, 7)))"
      ],
      "metadata": {
        "colab": {
          "base_uri": "https://localhost:8080/"
        },
        "id": "5ovDIT3MFIdN",
        "outputId": "ba56a62f-906a-4a73-91f9-8e4155b49bbf"
      },
      "execution_count": 13,
      "outputs": [
        {
          "output_type": "stream",
          "name": "stdout",
          "text": [
            "20\n"
          ]
        }
      ]
    },
    {
      "cell_type": "code",
      "source": [
        "# Python assignment - Problem statement 4\n",
        "def letter(a):\n",
        "  return a[::-1]\n",
        "swap = letter(\"1234abcd\")\n",
        "print(swap)"
      ],
      "metadata": {
        "colab": {
          "base_uri": "https://localhost:8080/"
        },
        "id": "hFgVFVT-FLao",
        "outputId": "818f1afc-c58b-44ea-e629-d9d272785c88"
      },
      "execution_count": 12,
      "outputs": [
        {
          "output_type": "stream",
          "name": "stdout",
          "text": [
            "dcba4321\n"
          ]
        }
      ]
    },
    {
      "cell_type": "code",
      "source": [
        "# Python assignment - Problem statement 5\n",
        "x=input(\"Enter the string:- \")\n",
        "def char(x):\n",
        "  a=0\n",
        "  b=0\n",
        "  for i in x:\n",
        "      if i>='a' and i<='z':\n",
        "       b+=1\n",
        "\n",
        "      if i >='A' and i<='Z':\n",
        "       a+=1\n",
        "\n",
        "  print(\"No. of Upper case characters\",a)\n",
        "  print(\"No. of Lower case Characters\",b)\n",
        "char(x)"
      ],
      "metadata": {
        "colab": {
          "base_uri": "https://localhost:8080/"
        },
        "id": "L-yOFU1WFNj1",
        "outputId": "5025d6d4-e515-4a93-d4ce-cb30ea5b829b"
      },
      "execution_count": 4,
      "outputs": [
        {
          "output_type": "stream",
          "name": "stdout",
          "text": [
            "Enter the string:- The quick Brow Fox\n",
            "No. of Upper case characters 3\n",
            "No. of Lower case Characters 12\n"
          ]
        }
      ]
    },
    {
      "cell_type": "code",
      "source": [
        "# Python assignment - Problem statement 6\n",
        "# Challenge1 Square Numbers and Return Their Sum\n",
        "\n",
        "class Point1:\n",
        "    def __init__(self,x,y,z):\n",
        "        self.x = x\n",
        "        self.y = y\n",
        "        self.z = z\n",
        "    def sqSum(self):\n",
        "        return(self.x**2+self.y**2+self.z**2)\n",
        "\n",
        "obj=Point1(1,3,5)\n",
        "print(obj.sqSum())"
      ],
      "metadata": {
        "colab": {
          "base_uri": "https://localhost:8080/"
        },
        "id": "zFiawyHjFbgk",
        "outputId": "36c787b1-1e43-44b9-fc6b-1a5e5ac1f568"
      },
      "execution_count": 26,
      "outputs": [
        {
          "output_type": "stream",
          "name": "stdout",
          "text": [
            "35\n"
          ]
        }
      ]
    },
    {
      "cell_type": "code",
      "source": [
        "# Python assignment - Problem statement 7\n",
        "#Challenge 2 Implement a Calculator Class\n",
        "\n",
        "class Calculator:\n",
        "\n",
        "    def __init__(self,a,b):\n",
        "        self.a = a\n",
        "        self.b = b\n",
        "    def add(self):\n",
        "        return self.b+self.a\n",
        "    def subtract(self):\n",
        "        return self.b-self.a\n",
        "    def multiply(self):\n",
        "        return self.b*self.a\n",
        "    def divide(self):\n",
        "        return self.b/self.a\n",
        "\n",
        "obj = Calculator(10,94)\n",
        "\n",
        "print(obj.add())\n",
        "print(obj.subtract())\n",
        "print(obj.multiply())\n",
        "print(obj.divide())"
      ],
      "metadata": {
        "colab": {
          "base_uri": "https://localhost:8080/"
        },
        "id": "BJaDSJa2HVhs",
        "outputId": "3133ac12-b097-4c48-9a9c-72b1447abee9"
      },
      "execution_count": 27,
      "outputs": [
        {
          "output_type": "stream",
          "name": "stdout",
          "text": [
            "104\n",
            "84\n",
            "940\n",
            "9.4\n"
          ]
        }
      ]
    },
    {
      "cell_type": "code",
      "source": [
        "# Python assignment - Problem statement 8\n",
        "#Challenge 3 Implement the Complete Student Class\n",
        "\n",
        "class Student:\n",
        "    def __init__(self,name=None,roll_num=None):\n",
        "        self.__student_name=name\n",
        "        self.__roll_number=roll_num\n",
        "    def setName(self,name):\n",
        "        self.__student_name=name\n",
        "    def getName(self):\n",
        "        return(self.__student_name)\n",
        "    def setRollNumber(self,roll_num):\n",
        "        self.__roll_number=roll_num\n",
        "    def getRollNumber(self):\n",
        "        return(self.__roll_number)\n",
        "s1=Student()\n",
        "print(s1.getName())\n",
        "s1.setName(\"Mohammed Ebraheem\")\n",
        "print(s1.getName())\n",
        "print(s1.getRollNumber())\n",
        "s1.setRollNumber(2721)\n",
        "print(s1.getRollNumber())\n"
      ],
      "metadata": {
        "colab": {
          "base_uri": "https://localhost:8080/"
        },
        "id": "jbn-bGyrIVtl",
        "outputId": "e3d76b1b-bf33-4906-9901-392eb02ca6f5"
      },
      "execution_count": 28,
      "outputs": [
        {
          "output_type": "stream",
          "name": "stdout",
          "text": [
            "None\n",
            "Mohammed Ebraheem\n",
            "None\n",
            "2721\n"
          ]
        }
      ]
    },
    {
      "cell_type": "code",
      "source": [
        "# Python assignment - Problem statement 9\n",
        "# Challenge 4: Implement a Banking Account\n",
        "\n",
        "class Account:\n",
        "    def __init__(self,title=None,Balance=0):\n",
        "        self.title=title\n",
        "        self.Balance=Balance\n",
        "\n",
        "class SavingsAccount(Account):\n",
        "    def __init__(self,title=None,Balance=0,interestRate=0):\n",
        "        super().__init__(title,Balance)\n",
        "        self.interestRate=interestRate\n",
        "\n",
        "obj1=Account(\"Ashish\",5000)\n",
        "obj2=SavingsAccount(\"Ashish\",5000,5)\n",
        "print(obj2.title)\n",
        "print(obj2.Balance)\n",
        "print(obj2.interestRate)"
      ],
      "metadata": {
        "colab": {
          "base_uri": "https://localhost:8080/"
        },
        "id": "mwVQTSdwKHV6",
        "outputId": "28686ccf-09df-4e67-e607-ce7ab96c82e3"
      },
      "execution_count": 29,
      "outputs": [
        {
          "output_type": "stream",
          "name": "stdout",
          "text": [
            "Ashish\n",
            "5000\n",
            "5\n"
          ]
        }
      ]
    },
    {
      "cell_type": "code",
      "source": [
        "# Python assignment - Problem statement 10\n",
        "# Challenge 5: Handling a Bank Account\n",
        "\n",
        "class Account:\n",
        "    def __init__(self, title=None, balance=0):\n",
        "        self.title = title\n",
        "        self.balance = balance\n",
        "\n",
        "    def withdrawal(self, amount):\n",
        "        self.balance-=amount\n",
        "\n",
        "    def deposit(self, amount):\n",
        "        self.balance+=amount\n",
        "\n",
        "    def getBalance(self):\n",
        "        return self.balance\n",
        "\n",
        "class SavingsAccount(Account):\n",
        "    def __init__(self, title=None, balance=0, interestRate=0):\n",
        "            super().__init__(title, balance)\n",
        "            self.interestRate = interestRate\n",
        "\n",
        "    def interestAmount(self):\n",
        "        return(self.interestRate*self.getBalance())/100\n",
        "\n",
        "obj1 = SavingsAccount(\"Ashish\", 2000, 5)   # initializing a SavingsAccount object\n",
        "print(f\"Name:{obj1.title}\")\n",
        "print(f\"Account Balance: {obj1.getBalance()}\")\n",
        "obj1.deposit(500)\n",
        "print(f\"Account Balance after deposit: {obj1.getBalance()}\")\n",
        "obj1.withdrawal(100)\n",
        "print(f\"Account Balance after withdrawal: {obj1.getBalance()}\")\n",
        "print(f\"Interest for balance amount:{obj1.interestAmount()}\")"
      ],
      "metadata": {
        "colab": {
          "base_uri": "https://localhost:8080/"
        },
        "id": "MUD_Bfb4K1Rq",
        "outputId": "f00f63be-e5a5-4c85-8b88-e0d1882a0b30"
      },
      "execution_count": 25,
      "outputs": [
        {
          "output_type": "stream",
          "name": "stdout",
          "text": [
            "Name:Ashish\n",
            "Account Balance: 2000\n",
            "Account Balance after deposit: 2500\n",
            "Account Balance after withdrawal: 2400\n",
            "Interest for balance amount:120.0\n"
          ]
        }
      ]
    }
  ]
}