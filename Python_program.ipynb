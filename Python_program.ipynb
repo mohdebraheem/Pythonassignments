{
  "nbformat": 4,
  "nbformat_minor": 0,
  "metadata": {
    "colab": {
      "provenance": [],
      "toc_visible": true,
      "authorship_tag": "ABX9TyMVxf2V8jd0ig/0f7rKTblE",
      "include_colab_link": true
    },
    "kernelspec": {
      "name": "python3",
      "display_name": "Python 3"
    },
    "language_info": {
      "name": "python"
    }
  },
  "cells": [
    {
      "cell_type": "markdown",
      "metadata": {
        "id": "view-in-github",
        "colab_type": "text"
      },
      "source": [
        "<a href=\"https://colab.research.google.com/github/mohdebraheem/Pythonassignments/blob/main/Python_program.ipynb\" target=\"_parent\"><img src=\"https://colab.research.google.com/assets/colab-badge.svg\" alt=\"Open In Colab\"/></a>"
      ]
    },
    {
      "cell_type": "code",
      "execution_count": 2,
      "metadata": {
        "colab": {
          "base_uri": "https://localhost:8080/"
        },
        "id": "PfyyaIK__kfl",
        "outputId": "c24db555-3ba2-4a4b-bfad-360dd9330a3a"
      },
      "outputs": [
        {
          "output_type": "stream",
          "name": "stdout",
          "text": [
            "log_message=D:100 W:200 D:400\n",
            "300\n"
          ]
        }
      ],
      "source": [
        "T_Dep=0\n",
        "T_Wd=0\n",
        "count=0\n",
        "Tmp_dep=\"\"\n",
        "Tmp_Wd=\"\"\n",
        "\n",
        "log_message=input(\"log_message=\")\n",
        "for x in log_message:\n",
        "    if x=='D':\n",
        "        D=log_message[count+2:]\n",
        "        for y in D:\n",
        "            if y!=':' and y!=' ':\n",
        "                Tmp_dep=Tmp_dep+y\n",
        "            else:\n",
        "                break\n",
        "        T_Dep=T_Dep+int(Tmp_dep)\n",
        "        Tmp_dep=\"\"\n",
        "    elif x=='W':\n",
        "        W=log_message[count+2:]\n",
        "        for z in W:\n",
        "            if z!=':' and z!=' ':\n",
        "                Tmp_Wd=Tmp_Wd+z\n",
        "            else:\n",
        "                break\n",
        "        T_Wd=T_Wd+int(Tmp_Wd)\n",
        "        Tmp_Wd=\"\"\n",
        "    count+=1\n",
        "print(T_Dep-T_Wd)"
      ]
    }
  ]
}