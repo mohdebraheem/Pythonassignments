{
  "nbformat": 4,
  "nbformat_minor": 0,
  "metadata": {
    "colab": {
      "provenance": [],
      "toc_visible": true,
      "authorship_tag": "ABX9TyOINzSE7Qsmsy7vI3KQ4SIy",
      "include_colab_link": true
    },
    "kernelspec": {
      "name": "python3",
      "display_name": "Python 3"
    },
    "language_info": {
      "name": "python"
    }
  },
  "cells": [
    {
      "cell_type": "markdown",
      "metadata": {
        "id": "view-in-github",
        "colab_type": "text"
      },
      "source": [
        "<a href=\"https://colab.research.google.com/github/mohdebraheem/Pythonassignments/blob/main/Python_program.ipynb\" target=\"_parent\"><img src=\"https://colab.research.google.com/assets/colab-badge.svg\" alt=\"Open In Colab\"/></a>"
      ]
    },
    {
      "cell_type": "code",
      "execution_count": 2,
      "metadata": {
        "colab": {
          "base_uri": "https://localhost:8080/"
        },
        "id": "PfyyaIK__kfl",
        "outputId": "c24db555-3ba2-4a4b-bfad-360dd9330a3a"
      },
      "outputs": [
        {
          "output_type": "stream",
          "name": "stdout",
          "text": [
            "log_message=D:100 W:200 D:400\n",
            "300\n"
          ]
        }
      ],
      "source": [
        "# Python assignment - Problem statement 1\n",
        "T_Dep=0\n",
        "T_Wd=0\n",
        "count=0\n",
        "Tmp_dep=\"\"\n",
        "Tmp_Wd=\"\"\n",
        "\n",
        "log_message=input(\"log_message=\")\n",
        "for x in log_message:\n",
        "    if x=='D':\n",
        "        D=log_message[count+2:]\n",
        "        for y in D:\n",
        "            if y!=':' and y!=' ':\n",
        "                Tmp_dep=Tmp_dep+y\n",
        "            else:\n",
        "                break\n",
        "        T_Dep=T_Dep+int(Tmp_dep)\n",
        "        Tmp_dep=\"\"\n",
        "    elif x=='W':\n",
        "        W=log_message[count+2:]\n",
        "        for z in W:\n",
        "            if z!=':' and z!=' ':\n",
        "                Tmp_Wd=Tmp_Wd+z\n",
        "            else:\n",
        "                break\n",
        "        T_Wd=T_Wd+int(Tmp_Wd)\n",
        "        Tmp_Wd=\"\"\n",
        "    count+=1\n",
        "print(T_Dep-T_Wd)"
      ]
    },
    {
      "cell_type": "markdown",
      "source": [],
      "metadata": {
        "id": "nPMhSW7BBibs"
      }
    },
    {
      "cell_type": "code",
      "source": [
        "# Python assignment - Problem statement 2\n",
        "\n",
        "call_num=int(input(\"Enter Number of calls:\"))\n",
        "\n",
        "if call_num> 200:\n",
        "    print(\"Monthly Telephone Bill for\",call_num,\"calls is Rs.\",(200+(50*0.60)+(50*0.50)+(call_num-200)*0.40))\n",
        "elif call_num > 150:\n",
        "    print(\"Monthly Telephone Bill for\",call_num,\"calls is Rs.\",(200+(50*0.60)+(call_num-150)*0.50))\n",
        "elif call_num > 100:\n",
        "    print(\"Monthly Telephone Bill for\",call_num,\"calls is Rs.\",(200+(call_num-100)*0.60))\n",
        "else:\n",
        "    print(\"Monthly Telephone Bill for\",call_num,\"calls is Rs. 200\")"
      ],
      "metadata": {
        "colab": {
          "base_uri": "https://localhost:8080/"
        },
        "id": "jhYBBGRlBB-2",
        "outputId": "1a89565b-0867-4fb7-c2f6-042fc499fc39"
      },
      "execution_count": 16,
      "outputs": [
        {
          "output_type": "stream",
          "name": "stdout",
          "text": [
            "Enter Number of calls:200\n",
            "Monthly Telephone Bill for 200 calls is Rs. 255.0\n"
          ]
        }
      ]
    },
    {
      "cell_type": "code",
      "source": [
        "# Python assignment - Problem statement 3\n",
        "\n",
        "def sum1(a):\n",
        "\n",
        "   count = 0\n",
        "\n",
        "   for i in a:\n",
        "\n",
        "       count += i\n",
        "\n",
        "   return count\n",
        "\n",
        "print(sum((8, 2, 3, 0, 7)))"
      ],
      "metadata": {
        "colab": {
          "base_uri": "https://localhost:8080/"
        },
        "id": "1xBKwYAaCRMJ",
        "outputId": "ce1299fa-e945-40eb-92a3-593e02dd8107"
      },
      "execution_count": 17,
      "outputs": [
        {
          "output_type": "stream",
          "name": "stdout",
          "text": [
            "20\n"
          ]
        }
      ]
    },
    {
      "cell_type": "code",
      "source": [
        "# Python assignment - Problem statement 4\n",
        "def letter(a):\n",
        "  return a[::-1]\n",
        "\n",
        "swap = letter(\"1234abcd\")\n",
        "\n",
        "print(swap)"
      ],
      "metadata": {
        "colab": {
          "base_uri": "https://localhost:8080/"
        },
        "id": "CQIMUy_kCv6w",
        "outputId": "931ee362-dc55-4dd2-ef9a-9c0d0dbc449d"
      },
      "execution_count": 18,
      "outputs": [
        {
          "output_type": "stream",
          "name": "stdout",
          "text": [
            "dcba4321\n"
          ]
        }
      ]
    },
    {
      "cell_type": "code",
      "source": [
        "# Python assignment - Problem statement 5\n",
        "x=input(\"Enter the string:- \")\n",
        "def char(x):\n",
        "  a=0\n",
        "  b=0\n",
        "  for i in x:\n",
        "      if i>='a' and i<='z':\n",
        "       b+=1\n",
        "\n",
        "      if i >='A' and i<='Z':\n",
        "       a+=1\n",
        "\n",
        "  print(\"No. of Upper case characters\",a)\n",
        "  print(\"No. of Lower case Characters\",b)\n",
        "char(x)"
      ],
      "metadata": {
        "colab": {
          "base_uri": "https://localhost:8080/"
        },
        "id": "NJzXgmQdDAtn",
        "outputId": "d596458e-7190-4eef-a249-a09dd1a627a9"
      },
      "execution_count": 23,
      "outputs": [
        {
          "output_type": "stream",
          "name": "stdout",
          "text": [
            "Enter the string:- The quick Brow Fox\n",
            "No. of Upper case characters 3\n",
            "No. of Lower case Characters 12\n"
          ]
        }
      ]
    },
    {
      "cell_type": "code",
      "source": [
        "# Python assignment - Problem statement 6\n",
        "\n",
        "class Point1:\n",
        "\n",
        "    def __init__(self,x,y,z):\n",
        "\n",
        "        self.x = x\n",
        "\n",
        "        self.y = y\n",
        "\n",
        "        self.z = z\n",
        "\n",
        "    def sqSum(self):\n",
        "\n",
        "        return(self.x**2+self.y**2+self.z**2)\n",
        "\n",
        "obj=Point1(1,3,5)\n",
        "\n",
        "print(obj.sqSum())"
      ],
      "metadata": {
        "id": "UjURNKpaEG62"
      },
      "execution_count": null,
      "outputs": []
    }
  ]
}